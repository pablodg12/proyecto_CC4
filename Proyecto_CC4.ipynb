{
 "cells": [
  {
   "cell_type": "markdown",
   "metadata": {},
   "source": [
    "# Cancer remission and tumor stability"
   ]
  },
  {
   "cell_type": "code",
   "execution_count": 1,
   "metadata": {
    "collapsed": true
   },
   "outputs": [],
   "source": [
    "import numpy as np\n",
    "from agent_model import *\n",
    "import matplotlib.pyplot as plt\n",
    "import ipywidgets as widgets\n",
    "from ipywidgets import interact\n",
    "import seaborn as sns\n",
    "\n",
    "%matplotlib inline"
   ]
  },
  {
   "cell_type": "markdown",
   "metadata": {},
   "source": [
    "## Modelo de agentes v1\n",
    "\n",
    "* Equilateral triangle 2D lattice.\n",
    "* Fixed position tumor cell and moving T-Cells.\n",
    "* Cell division as a function of blood irrigation (nutrient availability).\n",
    "* Rigid and periodic boundary conditions.\n",
    "* Cell necrosis as a function of its distance to the tumor surface."
   ]
  },
  {
   "cell_type": "code",
   "execution_count": 6,
   "metadata": {
    "scrolled": false
   },
   "outputs": [],
   "source": [
    "N = 60\n",
    "timesteps = 100\n",
    "center_pos = N**2//2 + N//2\n",
    "hc = Tissue(N, center_pos, boundary=\"rigid\")\n",
    "\n",
    "for i in range(timesteps):\n",
    "    hc.timestep()"
   ]
  },
  {
   "cell_type": "code",
   "execution_count": 7,
   "metadata": {},
   "outputs": [
    {
     "data": {
      "application/vnd.jupyter.widget-view+json": {
       "model_id": "cab076543e0b46f9b5b66ec9a3e164cb",
       "version_major": 2,
       "version_minor": 0
      },
      "text/plain": [
       "A Jupyter Widget"
      ]
     },
     "metadata": {},
     "output_type": "display_data"
    },
    {
     "data": {
      "text/plain": [
       "<function ipywidgets.widgets.interaction._InteractFactory.__call__.<locals>.<lambda>>"
      ]
     },
     "execution_count": 7,
     "metadata": {},
     "output_type": "execute_result"
    }
   ],
   "source": [
    "interact(hc.plot_tumor, timestep=widgets.IntSlider(value=0, min=0, max=timesteps))"
   ]
  },
  {
   "cell_type": "code",
   "execution_count": null,
   "metadata": {},
   "outputs": [],
   "source": [
    "def t_r(t=0):\n",
    "    ax = sns.heatmap(hc.resources[t].reshape(N,N),vmin=0,vmax=100)\n",
    "    plt.show()\n",
    "interact(t_r,t=(0,timesteps,1))"
   ]
  },
  {
   "cell_type": "code",
   "execution_count": 5,
   "metadata": {},
   "outputs": [
    {
     "data": {
      "text/plain": [
       "<agent_model.TumorCell at 0x7f4764b4a518>"
      ]
     },
     "execution_count": 5,
     "metadata": {},
     "output_type": "execute_result"
    }
   ],
   "source": [
    "hc.history[0][hc.history[0] != None][0]"
   ]
  },
  {
   "cell_type": "code",
   "execution_count": 8,
   "metadata": {},
   "outputs": [
    {
     "data": {
      "text/plain": [
       "array([<agent_model.TumorCell object at 0x7f4764b4a518>,\n",
       "       <agent_model.TumorCell object at 0x7f479c28b080>], dtype=object)"
      ]
     },
     "execution_count": 8,
     "metadata": {},
     "output_type": "execute_result"
    }
   ],
   "source": [
    "hc.history[1][hc.history[1] != None]"
   ]
  },
  {
   "cell_type": "code",
   "execution_count": 4,
   "metadata": {},
   "outputs": [
    {
     "data": {
      "image/png": "[encoded data removed]",
      "text/plain": [
       "<matplotlib.figure.Figure at 0x7f9ab318ae80>"
      ]
     },
     "metadata": {},
     "output_type": "display_data"
    }
   ],
   "source": [
    "f = plt.figure(figsize=(16,7))\n",
    "f.suptitle('Tumors Cells')\n",
    "ax = f.add_subplot(121)\n",
    "ax2 = f.add_subplot(122)\n",
    "tumor_history = np.sum(np.array(hc.history) != None,axis=1)\n",
    "ax.scatter(np.arange(len(tumor_history)), tumor_history)\n",
    "ax.set_ylabel(\"# of tumor Cells\")\n",
    "ax.set_xlabel(\"Time Steps\")\n",
    "ax.grid(True)\n",
    "ax2.plot(np.arange(len(tumor_history)), np.log(tumor_history))\n",
    "ax2.set_ylabel(\"log(# of tumor Cells)\")\n",
    "ax2.set_xlabel(\"Time Steps\")\n",
    "ax2.grid(True)\n",
    "plt.show()"
   ]
  },
  {
   "cell_type": "code",
   "execution_count": null,
   "metadata": {
    "collapsed": true
   },
   "outputs": [],
   "source": [
    "(np.array(hc.history)[5,:].reshape(10,10) == None)*100"
   ]
  },
  {
   "cell_type": "code",
   "execution_count": null,
   "metadata": {
    "collapsed": true
   },
   "outputs": [],
   "source": [
    "hc.tumor.size"
   ]
  },
  {
   "cell_type": "code",
   "execution_count": null,
   "metadata": {
    "collapsed": true
   },
   "outputs": [],
   "source": [
    "for cell in hc.history[5][hc.history[5] != None]:\n",
    "    nm += cell.pos\n",
    "    #print(cell)\n",
    "    print(nm)\n",
    "    "
   ]
  },
  {
   "cell_type": "code",
   "execution_count": null,
   "metadata": {
    "collapsed": true
   },
   "outputs": [],
   "source": [
    "(hc.history[5] != None).sum()"
   ]
  },
  {
   "cell_type": "code",
   "execution_count": null,
   "metadata": {
    "collapsed": true
   },
   "outputs": [],
   "source": []
  }
 ],
 "metadata": {
  "kernelspec": {
   "display_name": "Python 3",
   "language": "python",
   "name": "python3"
  },
  "language_info": {
   "codemirror_mode": {
    "name": "ipython",
    "version": 3
   },
   "file_extension": ".py",
   "mimetype": "text/x-python",
   "name": "python",
   "nbconvert_exporter": "python",
   "pygments_lexer": "ipython3",
   "version": "3.6.3"
  }
 },
 "nbformat": 4,
 "nbformat_minor": 2
}
