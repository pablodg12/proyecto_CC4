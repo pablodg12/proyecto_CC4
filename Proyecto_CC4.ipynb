{
 "cells": [
  {
   "cell_type": "markdown",
   "metadata": {},
   "source": [
    "# Cancer v0.1"
   ]
  },
  {
   "cell_type": "code",
   "execution_count": null,
   "metadata": {},
   "outputs": [],
   "source": [
    "import numpy as np\n",
    "from agent_model import *\n",
    "import matplotlib.pyplot as plt\n",
    "import ipywidgets as widgets\n",
    "from ipywidgets import interact\n",
    "\n",
    "%matplotlib inline"
   ]
  },
  {
   "cell_type": "code",
   "execution_count": null,
   "metadata": {},
   "outputs": [],
   "source": [
    "N = 50\n",
    "timesteps = 30\n",
    "\n",
    "center_pos = N**2//2 + N//2\n",
    "hc = Tissue(N, center_pos, boundary=\"rigid\")\n",
    "\n",
    "for i in range(timesteps):\n",
    "    hc.timestep()"
   ]
  },
  {
   "cell_type": "code",
   "execution_count": null,
   "metadata": {},
   "outputs": [],
   "source": [
    "interact(hc.plot_tumor, timestep=widgets.IntSlider(value=0, min=0, max=timesteps))"
   ]
  },
  {
   "cell_type": "code",
   "execution_count": null,
   "metadata": {},
   "outputs": [],
   "source": [
    "f = plt.figure(figsize=(16,8))\n",
    "f.suptitle('Tumors Cells')\n",
    "ax = f.add_subplot(121)\n",
    "ax2 = f.add_subplot(122)\n",
    "tumor_history = np.sum(np.array(hc.history) != None,axis=1)\n",
    "ax.scatter(np.arange(len(tumor_history)), tumor_history)\n",
    "ax.set_ylabel(\"# of tumor Cells\")\n",
    "ax.set_xlabel(\"Time Steps\")\n",
    "ax.grid(True)\n",
    "ax2.semilogy(np.arange(len(tumor_history)), tumor_history)\n",
    "ax2.set_ylabel(\"log(# of tumor Cells)\")\n",
    "ax2.set_xlabel(\"Time Steps\")\n",
    "ax2.grid(True)\n",
    "plt.show()"
   ]
  },
  {
   "cell_type": "code",
   "execution_count": null,
   "metadata": {},
   "outputs": [],
   "source": []
  }
 ],
 "metadata": {
  "kernelspec": {
   "display_name": "Python 3",
   "language": "python",
   "name": "python3"
  },
  "language_info": {
   "codemirror_mode": {
    "name": "ipython",
    "version": 3
   },
   "file_extension": ".py",
   "mimetype": "text/x-python",
   "name": "python",
   "nbconvert_exporter": "python",
   "pygments_lexer": "ipython3",
   "version": "3.6.3"
  }
 },
 "nbformat": 4,
 "nbformat_minor": 2
}
