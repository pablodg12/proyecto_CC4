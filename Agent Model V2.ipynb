{
 "cells": [
  {
   "cell_type": "markdown",
   "metadata": {},
   "source": [
    "# Cancer remission and tumor stability"
   ]
  },
  {
   "cell_type": "code",
   "execution_count": null,
   "metadata": {},
   "outputs": [],
   "source": [
    "%load_ext autoreload\n",
    "import numpy as np\n",
    "from agent_model_2 import *\n",
    "import matplotlib.pyplot as plt\n",
    "import ipywidgets as widgets\n",
    "from ipywidgets import interact\n",
    "import seaborn as sns\n",
    "\n",
    "%matplotlib inline"
   ]
  },
  {
   "cell_type": "markdown",
   "metadata": {},
   "source": [
    "## Agent Model v2\n",
    "\n",
    "* Equilateral triangle 2D lattice.\n",
    "* Fixed position tumor cell and moving Natural Killers.\n",
    "* Tumor cells has a 3 state life cycle plus a dead state.\n",
    "* Rigid boundary conditions.\n",
    "* Resource flux with fixed borders.\n",
    "* Tumor growth as a function of available resources and space."
   ]
  },
  {
   "cell_type": "markdown",
   "metadata": {},
   "source": [
    "### Tumor cell\n",
    "\n",
    "Tumor cells will follow a life cycle with 3 states as shown in the diagram below.\n",
    "\n",
    "<img src=\"img/automata.png\" style=\"max-width:500px\">\n",
    "\n",
    "* $S_0: $ correspond to the interphase, which includes states $G_1$, $S$ and $G_2$.\n",
    "* $S_1: $ mitosis or M state, which usually last for 1/10 of $S_0$.\n",
    "* $S_2: $ $G_0$ or resting state, induced for lack of resources or space to divide.\n",
    "* $S_3: $ a cell that has gone through apoptosis (death)."
   ]
  },
  {
   "cell_type": "code",
   "execution_count": null,
   "metadata": {
    "scrolled": false
   },
   "outputs": [],
   "source": [
    "N = 50\n",
    "timesteps = 300\n",
    "\n",
    "params = {\n",
    "    \"lattice_size\": N,\n",
    "    \"difussion_coef\": 0.9,\n",
    "    \"tumor_init_pos\": N**2//2 + N//2,\n",
    "    \"tumorcell_consumption\": 2,\n",
    "    \"tumorcell_mitosis_threshold\": 8,\n",
    "    \"tumorcell_apoptosis_threshold\": 20,\n",
    "    \"resources_init_min\": 50,\n",
    "    \"resources_init_max\": 100\n",
    "}\n",
    "\n",
    "hc = Tissue1(params)\n",
    "\n",
    "for i in range(timesteps):\n",
    "    hc.timestep()"
   ]
  },
  {
   "cell_type": "code",
   "execution_count": null,
   "metadata": {},
   "outputs": [],
   "source": [
    "interact(hc.plot_tissue, timestep=widgets.IntSlider(value=0, min=0, max=timesteps))"
   ]
  },
  {
   "cell_type": "code",
   "execution_count": null,
   "metadata": {
    "scrolled": false
   },
   "outputs": [],
   "source": [
    "hc.plot_data()"
   ]
  },
  {
   "cell_type": "markdown",
   "metadata": {},
   "source": [
    "### Resources deprivation scenario"
   ]
  },
  {
   "cell_type": "code",
   "execution_count": null,
   "metadata": {},
   "outputs": [],
   "source": [
    "N = 50\n",
    "timesteps = 300\n",
    "\n",
    "params = {\n",
    "    \"lattice_size\": N,\n",
    "    \"difussion_coef\": 0.9,\n",
    "    \"tumor_init_pos\": N**2//2 + N//2,\n",
    "    \"tumorcell_consumption\": 2,\n",
    "    \"tumorcell_mitosis_threshold\": 8,\n",
    "    \"tumorcell_apoptosis_threshold\": 20,\n",
    "    \"resources_init_min\": 20,\n",
    "    \"resources_init_max\": 50\n",
    "}\n",
    "\n",
    "hc = Tissue1(params)\n",
    "\n",
    "for i in range(timesteps):\n",
    "    hc.timestep()"
   ]
  },
  {
   "cell_type": "code",
   "execution_count": null,
   "metadata": {},
   "outputs": [],
   "source": [
    "interact(hc.plot_tissue, timestep=widgets.IntSlider(value=0, min=0, max=timesteps))"
   ]
  },
  {
   "cell_type": "code",
   "execution_count": null,
   "metadata": {},
   "outputs": [],
   "source": [
    "hc.plot_data()"
   ]
  },
  {
   "cell_type": "markdown",
   "metadata": {},
   "source": [
    "### Natural Killer (NK) cell\n",
    "\n",
    "* Moves over the centroids of each triangle in the tumor 2D lattice.\n",
    "* Has a predefined chance of detecting a tumor cell and kill it.\n",
    "* Secretes cytokines to attract more NK cells."
   ]
  },
  {
   "cell_type": "code",
   "execution_count": null,
   "metadata": {
    "scrolled": true
   },
   "outputs": [],
   "source": [
    "N = 51 # MUST BE ODD\n",
    "timesteps = 1000\n",
    "\n",
    "params = {\n",
    "    \"lattice_size\": N,\n",
    "    \"tumorcell_phagocytosis_rate\": 0.005,\n",
    "    \"resources_difussion_coef\": 0.7,\n",
    "    \"tumor_init_pos\": 1301,\n",
    "    \"tumorcell_consumption\": 2,\n",
    "    \"tumorcell_mitosis_threshold\": 12,\n",
    "    \"tumorcell_apoptosis_threshold\": 15,\n",
    "    \"resources_init_min\": 100,\n",
    "    \"resources_init_max\": 200,\n",
    "    \"cytokines_init_min\": 2,\n",
    "    \"cytokines_init_max\": 2,\n",
    "    \"cytokines_difussion_coef\": 0.3,\n",
    "    \"nk_init_count\": 50,\n",
    "    \"nkcell_movement_speed\": 1,\n",
    "    \"nkcell_detection_probability\": 0.7,\n",
    "    \"nkcell_cytokines_release\": 15,\n",
    "    \"nkcell_vanish_rate\": 0.01,\n",
    "    \"nkcell_incoming_rate\": 0.1,\n",
    "    \"cytokines_decay\": 0.1\n",
    "}\n",
    "\n",
    "t2 = Tissue2(params)\n",
    "\n",
    "for i in range(timesteps):\n",
    "    t2.timestep()"
   ]
  },
  {
   "cell_type": "code",
   "execution_count": null,
   "metadata": {
    "scrolled": false
   },
   "outputs": [],
   "source": [
    "interact(t2.plot_tissue, timestep=widgets.IntSlider(value=0, min=0, max=timesteps))"
   ]
  },
  {
   "cell_type": "code",
   "execution_count": null,
   "metadata": {},
   "outputs": [],
   "source": [
    "t2.plot_data()"
   ]
  },
  {
   "cell_type": "code",
   "execution_count": null,
   "metadata": {},
   "outputs": [],
   "source": []
  },
  {
   "cell_type": "code",
   "execution_count": null,
   "metadata": {},
   "outputs": [],
   "source": []
  },
  {
   "cell_type": "code",
   "execution_count": null,
   "metadata": {},
   "outputs": [],
   "source": []
  }
 ],
 "metadata": {
  "kernelspec": {
   "display_name": "Python 3",
   "language": "python",
   "name": "python3"
  },
  "language_info": {
   "codemirror_mode": {
    "name": "ipython",
    "version": 3
   },
   "file_extension": ".py",
   "mimetype": "text/x-python",
   "name": "python",
   "nbconvert_exporter": "python",
   "pygments_lexer": "ipython3",
   "version": "3.6.5"
  }
 },
 "nbformat": 4,
 "nbformat_minor": 2
}
